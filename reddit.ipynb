{
 "cells": [
  {
   "cell_type": "markdown",
   "metadata": {},
   "source": [
    "Find common themes."
   ]
  },
  {
   "cell_type": "code",
   "execution_count": 18,
   "metadata": {},
   "outputs": [],
   "source": [
    "# Import libraries\n",
    "import praw\n",
    "import pandas as pd\n",
    "import clean"
   ]
  },
  {
   "cell_type": "markdown",
   "metadata": {},
   "source": [
    "# Data preparation"
   ]
  },
  {
   "cell_type": "markdown",
   "metadata": {},
   "source": [
    "## Scrape from Reddit \n",
    "Use the Python library [praw](https://towardsdatascience.com/scraping-reddit-data-1c0af3040768\n",
    ")."
   ]
  },
  {
   "cell_type": "code",
   "execution_count": 2,
   "metadata": {},
   "outputs": [],
   "source": [
    "# Reddit API credentials\n",
    "reddit = praw.Reddit(client_id=\"fQYmyW_tx01tQg\", client_secret=\"TKSh_45UOqu-6TJbp6ckGcyx-3c\", user_agent=\"reddit scraper\")"
   ]
  },
  {
   "cell_type": "code",
   "execution_count": 3,
   "metadata": {},
   "outputs": [],
   "source": [
    "# Get top 10,000 posts\n",
    "posts = []\n",
    "\n",
    "ke_subreddit = reddit.subreddit('KillingEve')\n",
    "\n",
    "for post in ke_subreddit.hot(limit=10000):\n",
    "    posts.append([post.title, post.score, post.id, post.subreddit, post.url, post.num_comments, post.selftext, post.created])\n",
    "    \n",
    "posts = pd.DataFrame(posts, columns=['title', 'score', 'id', 'subreddit', 'url', 'num_comments', 'body', 'created'])"
   ]
  },
  {
   "cell_type": "code",
   "execution_count": 4,
   "metadata": {},
   "outputs": [
    {
     "data": {
      "text/html": [
       "<div>\n",
       "<style scoped>\n",
       "    .dataframe tbody tr th:only-of-type {\n",
       "        vertical-align: middle;\n",
       "    }\n",
       "\n",
       "    .dataframe tbody tr th {\n",
       "        vertical-align: top;\n",
       "    }\n",
       "\n",
       "    .dataframe thead th {\n",
       "        text-align: right;\n",
       "    }\n",
       "</style>\n",
       "<table border=\"1\" class=\"dataframe\">\n",
       "  <thead>\n",
       "    <tr style=\"text-align: right;\">\n",
       "      <th></th>\n",
       "      <th>title</th>\n",
       "      <th>score</th>\n",
       "      <th>id</th>\n",
       "      <th>subreddit</th>\n",
       "      <th>url</th>\n",
       "      <th>num_comments</th>\n",
       "      <th>body</th>\n",
       "      <th>created</th>\n",
       "    </tr>\n",
       "  </thead>\n",
       "  <tbody>\n",
       "    <tr>\n",
       "      <th>0</th>\n",
       "      <td>Rule 4: No Spam UPDATED</td>\n",
       "      <td>0</td>\n",
       "      <td>gfj3cj</td>\n",
       "      <td>KillingEve</td>\n",
       "      <td>https://www.reddit.com/r/KillingEve/comments/g...</td>\n",
       "      <td>0</td>\n",
       "      <td>Attention r/KillingEve,\\n\\nRule 4 Has been upd...</td>\n",
       "      <td>1.588928e+09</td>\n",
       "    </tr>\n",
       "    <tr>\n",
       "      <th>1</th>\n",
       "      <td>Episode 3x05: Are You From Pinner? - Pre Discu...</td>\n",
       "      <td>21</td>\n",
       "      <td>ge80s6</td>\n",
       "      <td>KillingEve</td>\n",
       "      <td>https://www.reddit.com/r/KillingEve/comments/g...</td>\n",
       "      <td>63</td>\n",
       "      <td>Aired: May 10, 2020 (US)\\n\\nWritten by: \\n\\nSy...</td>\n",
       "      <td>1.588748e+09</td>\n",
       "    </tr>\n",
       "    <tr>\n",
       "      <th>2</th>\n",
       "      <td>Villanelle Pencil Drawing (S3 Ep4) (Instagram ...</td>\n",
       "      <td>490</td>\n",
       "      <td>gf6lpv</td>\n",
       "      <td>KillingEve</td>\n",
       "      <td>https://i.redd.it/z8oxtbq1icx41.jpg</td>\n",
       "      <td>30</td>\n",
       "      <td></td>\n",
       "      <td>1.588887e+09</td>\n",
       "    </tr>\n",
       "    <tr>\n",
       "      <th>3</th>\n",
       "      <td>Not what I expected when she reached Paddington</td>\n",
       "      <td>29</td>\n",
       "      <td>gff2a9</td>\n",
       "      <td>KillingEve</td>\n",
       "      <td>https://i.redd.it/syi1x3ghpex41.png</td>\n",
       "      <td>2</td>\n",
       "      <td></td>\n",
       "      <td>1.588914e+09</td>\n",
       "    </tr>\n",
       "    <tr>\n",
       "      <th>4</th>\n",
       "      <td>[S3E4] just watched this episode for the secon...</td>\n",
       "      <td>13</td>\n",
       "      <td>gfg8y8</td>\n",
       "      <td>KillingEve</td>\n",
       "      <td>https://www.reddit.com/r/KillingEve/comments/g...</td>\n",
       "      <td>5</td>\n",
       "      <td>When V goes to that woman’s house and the woma...</td>\n",
       "      <td>1.588918e+09</td>\n",
       "    </tr>\n",
       "  </tbody>\n",
       "</table>\n",
       "</div>"
      ],
      "text/plain": [
       "                                               title  score      id  \\\n",
       "0                            Rule 4: No Spam UPDATED      0  gfj3cj   \n",
       "1  Episode 3x05: Are You From Pinner? - Pre Discu...     21  ge80s6   \n",
       "2  Villanelle Pencil Drawing (S3 Ep4) (Instagram ...    490  gf6lpv   \n",
       "3    Not what I expected when she reached Paddington     29  gff2a9   \n",
       "4  [S3E4] just watched this episode for the secon...     13  gfg8y8   \n",
       "\n",
       "    subreddit                                                url  \\\n",
       "0  KillingEve  https://www.reddit.com/r/KillingEve/comments/g...   \n",
       "1  KillingEve  https://www.reddit.com/r/KillingEve/comments/g...   \n",
       "2  KillingEve                https://i.redd.it/z8oxtbq1icx41.jpg   \n",
       "3  KillingEve                https://i.redd.it/syi1x3ghpex41.png   \n",
       "4  KillingEve  https://www.reddit.com/r/KillingEve/comments/g...   \n",
       "\n",
       "   num_comments                                               body  \\\n",
       "0             0  Attention r/KillingEve,\\n\\nRule 4 Has been upd...   \n",
       "1            63  Aired: May 10, 2020 (US)\\n\\nWritten by: \\n\\nSy...   \n",
       "2            30                                                      \n",
       "3             2                                                      \n",
       "4             5  When V goes to that woman’s house and the woma...   \n",
       "\n",
       "        created  \n",
       "0  1.588928e+09  \n",
       "1  1.588748e+09  \n",
       "2  1.588887e+09  \n",
       "3  1.588914e+09  \n",
       "4  1.588918e+09  "
      ]
     },
     "execution_count": 4,
     "metadata": {},
     "output_type": "execute_result"
    }
   ],
   "source": [
    "# Inspect first 5 rows\n",
    "posts.head()"
   ]
  },
  {
   "cell_type": "markdown",
   "metadata": {},
   "source": [
    "## Text cleaning"
   ]
  },
  {
   "cell_type": "code",
   "execution_count": null,
   "metadata": {},
   "outputs": [],
   "source": [
    "posts[\"body_normalized\"] = posts[\"body\"].apply(lambda x: clean.normalization(x))"
   ]
  }
 ],
 "metadata": {
  "kernelspec": {
   "display_name": "Python 3",
   "language": "python",
   "name": "python3"
  },
  "language_info": {
   "codemirror_mode": {
    "name": "ipython",
    "version": 3
   },
   "file_extension": ".py",
   "mimetype": "text/x-python",
   "name": "python",
   "nbconvert_exporter": "python",
   "pygments_lexer": "ipython3",
   "version": "3.7.6"
  }
 },
 "nbformat": 4,
 "nbformat_minor": 4
}
